{
 "cells": [
  {
   "cell_type": "markdown",
   "metadata": {
    "collapsed": false
   },
   "source": [
    "##Serie 3"
   ]
  },
  {
   "cell_type": "markdown",
   "metadata": {},
   "source": [
    "###Aufgabe 1\n",
    "(a) Berechnen Sie die Determinante von $\\begin{pmatrix}\n",
    "3 & 1  \\\\\n",
    "5 & 7  \\\\\n",
    "\\end{pmatrix}$\n",
    "\n",
    "(b) Zeigen Sie anhand von $(2×2)$-Matrizen $A$und $B$, dass im Allgemeinen die Regel\n",
    "\n",
    "$$det(A+B) = det(A) + det(B)$$\n",
    "\n",
    "nicht gilt.\n",
    "\n",
    "(c) Berechnen Sie das Volumen des Parallelogramms im $\\mathbb{R}^2$ mit den Eckpunkten\n",
    "$(1, 1), (2, 3), (3, 2), (4, 4)$ mit Hilfe einer passenden Determinante.\n"
   ]
  },
  {
   "cell_type": "markdown",
   "metadata": {},
   "source": [
    "###Lösung \n",
    "####a)\n",
    "\n",
    "$\\begin{vmatrix}\n",
    "3 & 1  \\\\\n",
    "5 & 7  \\\\\n",
    "\\end{vmatrix} = (3*7) - (1*5) = 16$  \n",
    "\n",
    "####b)\n",
    "\n",
    "$ A = \n",
    "\\begin{pmatrix}\n",
    "a_{11} & a_{12} \\\\\n",
    "a_{21} & a_{22}\\\\\n",
    "\\end{pmatrix}\n",
    " \\qquad   B = \n",
    "\\begin{pmatrix}\n",
    "b_{11} & b_{12} \\\\\n",
    "b_{21} & b_{22}\\\\\n",
    "\\end{pmatrix}\n",
    "\\qquad A+B = \n",
    "\\begin{pmatrix}\n",
    "a_{11} + b_{11} & a_{12} +  b_{12} \\\\\n",
    "a_{21} + b_{21} & a_{22} + b_{22}\\\\\n",
    "\\end{pmatrix}\n",
    "$\n",
    "<br>\n",
    "<br>\n",
    "$det(A) = \\begin{vmatrix}\n",
    "a_{11} & a_{12} \\\\\n",
    "a_{21} & a_{22}\\\\\n",
    "\\end{vmatrix} = (a_{11} * a_{22}) - (a_{12} * a_{21})   \\qquad  \\qquad det(B) = \\begin{vmatrix}\n",
    "b_{11} & b_{12} \\\\\n",
    "b_{21} & b_{22}\\\\\n",
    "\\end{vmatrix} = (b_{11} * b_{22}) - (b_{12} * b_{21})$\n",
    "<br>\n",
    "<br>\n",
    "\n",
    "$det(A+B) = \\begin{vmatrix}\n",
    "a_{11} + b_{11} & a_{12} +  b_{12} \\\\\n",
    "a_{21} + b_{21} & a_{22} + b_{22}\\\\\n",
    "\\end{vmatrix} = [(a_{11} + b_{11})*(a_{22} + b_{22})]-[(a_{12} +  b_{12})*(a_{21} + b_{21})]$ \n",
    "<br>\n",
    "<br>\n",
    "\n",
    "$$= [(a_{11} * a_{22}) - (a_{12} * a_{21})] + [(b_{11} * b_{22}) - (b_{12} * b_{21})] + a_{11}*b_{22} + b_{11}*a_{22}-a_{12}*b_{21}-b_{12}*a_{21}  $$\n",
    "<br>\n",
    "\n",
    "\n",
    "$det(A) + det(B) \\qquad \\qquad \\quad= [(a_{11} * a_{22}) - (a_{12} * a_{21})] + [(b_{11} * b_{22}) - (b_{12} * b_{21})] $\n",
    "<br>\n",
    "\n",
    "Somit sind die beiden nicht gleich:\n",
    "$$det(A+B) \\neq det(A) + det(B)$$\n"
   ]
  },
  {
   "cell_type": "code",
   "execution_count": 3,
   "metadata": {
    "collapsed": false
   },
   "outputs": [
    {
     "name": "stdout",
     "output_type": "stream",
     "text": [
      "Determinate A: 16.0\n"
     ]
    }
   ],
   "source": [
    "import numpy as np\n",
    "#a\n",
    "A = np.matrix([[3,1],[5,7]])\n",
    "print(\"Determinate A:\", np.linalg.det(A))\n",
    "#b\n",
    "\n"
   ]
  },
  {
   "cell_type": "markdown",
   "metadata": {},
   "source": [
    "####c)\n",
    "The volume of a parallelepiped is the product of the area of its base A and its height h. The base is any of the six faces of the parallelepiped. The height is the perpendicular distance between the base and the opposite face.    "
   ]
  },
  {
   "cell_type": "code",
   "execution_count": 4,
   "metadata": {
    "collapsed": false
   },
   "outputs": [
    {
     "data": {
      "text/plain": [
       "<IPython.core.display.SVG object>"
      ]
     },
     "execution_count": 4,
     "metadata": {},
     "output_type": "execute_result"
    }
   ],
   "source": [
    "from IPython.display import SVG\n",
    "SVG(url='http://en.wikipedia.org/wiki/Parallelepiped#/media/File:Parallelepiped_volume.svg')\n"
   ]
  },
  {
   "cell_type": "markdown",
   "metadata": {},
   "source": [
    "###Aufgabe 2\n",
    "Berechnen Sie die determinante von\n",
    "$$ A= \\begin{pmatrix}\n",
    "3 & 4 & 2 & 1\\\\\n",
    "2 & 1 & 3 & 5\\\\\n",
    "0 & 1 & 1 & 2\\\\\n",
    "1 & 2 & 4 & 0\\\\\n",
    "\\end{pmatrix} $$\n",
    "\n",
    "einmal durch Entwicklung nach der 4. Spalte und einmal durch Entwicklung nach\n",
    "der 2. Zeile.\n"
   ]
  },
  {
   "cell_type": "markdown",
   "metadata": {
    "collapsed": false
   },
   "source": [
    "####Lösung \n",
    "\n",
    "####Laplace Entwicklungssatz\n",
    "\n",
    "Der Entwicklungssatz von Laplace hilft, wenn zu größeren als $3\\times 3$ Matrizen eine Determinante bestimmt werden soll6.1.\n",
    "Man kann die Determinante entwicklen, indem man die Matrix in immer kleinere Unterdeterminanten aufteilt. Dabei bezeichnet die Untermatrix $A_{ij}$ die Matrix die durch Weglassen der $i-$ten und $j-$ten Zeile bzw. Spalte aus der Matrix $A$ entsteht. Entwickeln kann man nun entweder nach Zeilen\n",
    "\n",
    "$$det\\,\\,A=\\sum^{n}_{j=1}(-1)^{i+j}\\cdot a_{ij}\\cdot A_{ij}$$\n",
    "\n",
    "oder nach Spalten\n",
    "\n",
    "$$det\\,\\,A=\\sum^{n}_{i=1}(-1)^{i+j}\\cdot a_{ij}\\cdot A_{ij}$$\n",
    "\n",
    "\n",
    "\n",
    " Durch den Faktor $(-1)^{i+j}$ entsteht für jede Matrix ein Schachbrettartiges Muster. Dadurch werden die Vorzeichen der Unterdeterminanten bestimmt: \n",
    " \n",
    "$$\\begin {array}{|c|c|c|c|c|}\n",
    "\\hline\n",
    "+&-&+&-&+\\\\\n",
    "\\hline\n",
    "-&+&-&+&-\\\\\n",
    "\\hline\n",
    "+&-&+&-&+\\\\\n",
    "\\hline\n",
    "-&+&-&+&-\\\\\n",
    "\\hline\n",
    "+&-&+&-&+\\\\\n",
    "\\hline\n",
    "\\end {array}$$\n",
    "<br>\n",
    "<br>\n",
    "\n",
    "$$\\begin {array}{l}\n",
    "det\\left(\\begin {array}{cccc}\n",
    "3 & 4 & 2 & 1\\\\\n",
    "2 & 1 & 3 & 5\\\\\n",
    "0 & 1 & 1 & 2\\\\\n",
    "1 & 2 & 4 & 0\\\\\n",
    "\\end{array}\\right)\\begin {array}{l}\n",
    "\\Leftarrow Entwicklung\\,\\,\\,nach\\,\\,\\,letzte\\,\\,\\,Spalte\\\\\n",
    "letzte\\,\\,\\,Spalte\\,\\,\\,wird\\,\\,\\,\\\\\n",
    "in\\,\\,\\,Unterdeterminanten\\,\\,\\,ausgeblendet.\\\\\n",
    "\\\\\n",
    "\\end{array}\\\\\n",
    "\\\\\n",
    "\\\\\n",
    "\\begin {array}{c}\n",
    "-1\\cdot\\underbrace{det\n",
    "\\left(\n",
    "\\begin {array}{ccc}\n",
    "2 & 1 & 3 \\\\\n",
    "0 & 1 & 1 \\\\\n",
    "1 & 2 & 4 \\\\\n",
    "\\end{array}\n",
    "\\right)\n",
    "}\\\\\n",
    "\\,\\,\\,\\,\\,\\,\\,\\,\\,\\,\\,\\,\\,\\,\\,1. Zeile\\,\\,\\, ausgeblendet\\\\\n",
    "\\end {array}\n",
    "\\begin {array}{c}\n",
    "+5\\cdot\\underbrace{det\n",
    "\\left(\n",
    "\\begin {array}{ccc}\n",
    "3 & 4 & 2\\\\\n",
    "0 & 1 & 1 \\\\\n",
    "1 & 2 & 4 \\\\\n",
    "\\end{array}\n",
    "\\right)\n",
    "}\\\\\n",
    "\\,\\,\\,\\,\\,\\,\\,\\,\\,\\,\\,\\,\\,\\,\\,2. Zeile\\,\\,\\, ausgeblendet\\\\\n",
    "\\end {array}\n",
    "\\begin {array}{c}\n",
    "-2\\cdot\\underbrace{det\n",
    "\\left(\n",
    "\\begin {array}{ccc}\n",
    "3 & 4 & 2\\\\\n",
    "2 & 1 & 3 \\\\\n",
    "1 & 2 & 4 \\\\\n",
    "\\end{array}\n",
    "\\right)\n",
    "}\\\\\n",
    "\\,\\,\\,\\,\\,\\,\\,\\,\\,\\,\\,\\,\\,\\,\\,3. Zeile\\,\\,\\, ausgeblendet\\\\\n",
    "\\end {array}\n",
    "\\begin {array}{c}\n",
    "0\\cdot\\underbrace{det\n",
    "\\left(\n",
    "\\begin {array}{ccc}\n",
    "3 & 4 & 2\\\\\n",
    "2 & 1 & 3 \\\\\n",
    "0 & 1 & 1 \\\\\n",
    "\\end{array}\n",
    "\\right)\n",
    "}= 78\\\\\n",
    "\\,\\,\\,\\,\\,\\,\\,\\,\\,\\,\\,\\,\\,\\,\\,4. Zeile\\,\\,\\, ausgeblendet\\\\\n",
    "\\end {array}\\\\\n",
    "\\end {array}\n",
    "$$\n"
   ]
  },
  {
   "cell_type": "code",
   "execution_count": 5,
   "metadata": {
    "collapsed": false
   },
   "outputs": [
    {
     "name": "stdout",
     "output_type": "stream",
     "text": [
      "Determinate A: 78.0\n"
     ]
    }
   ],
   "source": [
    "A = np.matrix([[3,4,2,1],[2,1,3,5],[0,1,1,2],[1,2,4,0]])\n",
    "print(\"Determinate A:\", np.linalg.det(A))\n"
   ]
  },
  {
   "cell_type": "markdown",
   "metadata": {},
   "source": [
    "###Aufgabe 3\n",
    "\n",
    "Berechnen Sie die Determinante von\n",
    "\n",
    "$$A = \\begin{pmatrix}\n",
    "1 & 1 & 2\\\\\n",
    "2 & 0 & 1\\\\\n",
    "0 & 1 & 1\n",
    "\\end{pmatrix}, \\quad B = \\begin{pmatrix}\n",
    "1 & 1 & 2\\\\\n",
    "0 & 2 & 1\\\\\n",
    "1 & 0 & 1\n",
    "\\end{pmatrix}, \\quad C = \\begin{pmatrix}\n",
    "-1 & -1 & \\,2\\\\\n",
    "-2 & \\,0 & \\,1\\\\\n",
    "\\,0 & -1 & \\,1\n",
    "\\end{pmatrix}$$\n",
    "\n",
    "durch Entwicklung nach der ersten Zeile und durch die Sarrusregel.\n",
    "Was faellt Ihnen auf? Bringen Sie die Resultate in Zusammenhang mit den bespro\n",
    "chenen Rechenregeln fuer Matrizen (z.B. Linearität in den Zeilen und Spalten, Vertauschen von Zeilen und Spalten)."
   ]
  },
  {
   "cell_type": "markdown",
   "metadata": {},
   "source": [
    "Berechnung der determinante A mit Sarrus Regel:\n",
    "\n",
    "$ det(A) = \\begin{array} {\\vert cc|ccc} 1 & 1 & 2 & 1 & 1 \\\\ 2 & 0 & 1 & 2 & 0 \\\\ 0 & 1 & 1 & 0 & 1 \\\\ \\end{array}$\n",
    "\n",
    "$= 1\\cdot 0\\cdot 1 + 1\\cdot 1 \\cdot 0 +\n",
    " 2\\cdot 2\\cdot 1 \n",
    " -2\\cdot 0\\cdot 0 - 1\\cdot 1\\cdot 1\n",
    " -1\\cdot 2\\cdot 1 = 1$\n",
    " \n",
    " $det(B) = -det(A) = -1 \\Longrightarrow $ die Erste und zweite Spalte von A wird vertauscht (Rechenregeln, Spaltenvertausch)\n",
    " \n",
    " $det(C) = -1 \\cdot -1 \\cdot det(A) = 1 \\Longrightarrow $ die Erste und zweite Spalte von A wird mit -1 multipliziert (Rechenregeln)"
   ]
  },
  {
   "cell_type": "code",
   "execution_count": 6,
   "metadata": {
    "collapsed": false
   },
   "outputs": [
    {
     "name": "stdout",
     "output_type": "stream",
     "text": [
      "Determinate A: 1.0\n",
      "Determinate B: -1.0\n",
      "Determinate C: 1.0\n"
     ]
    }
   ],
   "source": [
    "A = np.matrix([[1,1,2],[2,0,1],[0,1,1]])\n",
    "print(\"Determinate A:\", np.linalg.det(A))\n",
    "B = np.matrix([[1,1,2],[0,2,1],[1,0,1]])\n",
    "print(\"Determinate B:\", np.linalg.det(B))\n",
    "C = np.matrix([[-1,-1,2],[-2,0,1],[0,-1,1]])\n",
    "print(\"Determinate C:\", np.linalg.det(C))"
   ]
  },
  {
   "cell_type": "markdown",
   "metadata": {
    "collapsed": false,
    "scrolled": true
   },
   "source": [
    "###Lösung\n",
    "\n",
    "####a)\n",
    "\\begin{eqnarray*}\n",
    "\\det A\\; &=&\\left. \n",
    "\\begin{array}{c}\n",
    "\\;\\;\\text{*)} \\\\ \n",
    "-1\\text{)} \\\\ \n",
    "-2\\text{)} \\\\ \n",
    "-2\\text{)}\n",
    "\\end{array}\n",
    "\\right. \n",
    "\\begin{vmatrix}\n",
    "1 & 3 & 2 & -6 \\\\ \n",
    "1 & 2 & -2 & -5 \\\\ \n",
    "2 & 4 & -2 & -9 \\\\ \n",
    "2 & 4 & -6 & -9\n",
    "\\end{vmatrix}\n",
    "=\n",
    "\\begin{vmatrix}\n",
    "1 & 3 & 2 & -6 \\\\ \n",
    "0 & -1 & -4 & 1 \\\\ \n",
    "0 & -2 & -6 & 3 \\\\ \n",
    "0 & -2 & -10 & 3\n",
    "\\end{vmatrix}\n",
    "\\\\\n",
    "&& \\\\\n",
    "&=&\\left. \n",
    "\\begin{array}{c}\n",
    "\\;\\;\\text{*)} \\\\ \n",
    "-2\\text{)} \\\\ \n",
    "-2\\text{)}\n",
    "\\end{array}\n",
    "\\right. \n",
    "\\begin{vmatrix}\n",
    "1 & 4 & 1 \\\\ \n",
    "2 & 6 & 3 \\\\ \n",
    "2 & 10 & 3\n",
    "\\end{vmatrix}\n",
    "=\n",
    "\\begin{vmatrix}\n",
    "1 & 4 & 1 \\\\ \n",
    "0 & -2 & 1 \\\\ \n",
    "0 & 2 & 1\n",
    "\\end{vmatrix}\n",
    "=\n",
    "\\begin{vmatrix}\n",
    "-2 & 1 \\\\ \n",
    "2 & 1\n",
    "\\end{vmatrix}\n",
    "=-4\n",
    "\\end{eqnarray*}"
   ]
  },
  {
   "cell_type": "markdown",
   "metadata": {},
   "source": []
  }
 ],
 "metadata": {
  "kernelspec": {
   "display_name": "Python 3",
   "language": "python",
   "name": "python3"
  },
  "language_info": {
   "codemirror_mode": {
    "name": "ipython",
    "version": 3
   },
   "file_extension": ".py",
   "mimetype": "text/x-python",
   "name": "python",
   "nbconvert_exporter": "python",
   "pygments_lexer": "ipython3",
   "version": "3.4.3"
  },
  "name": "Serie3.ipynb"
 },
 "nbformat": 4,
 "nbformat_minor": 0
}
