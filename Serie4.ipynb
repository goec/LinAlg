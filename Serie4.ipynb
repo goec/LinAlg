{
 "cells": [
  {
   "cell_type": "markdown",
   "metadata": {
    "collapsed": false
   },
   "source": [
    "<h3 align=\"left\"> Institut für Datenanalyse und Prozessdesign $\\qquad \\qquad \\qquad \\qquad$  Stephan Bütikofer <br>\n",
    "ZHAW <br> Lineare Algebra II  </h3> \n",
    "\n",
    "\n",
    "\n",
    "<h3 align=\"center\">$\\Large Serie \\quad 4$ <br>\n",
    " (Ausgabe: 17.03.2015 / Abgabe: 30.03.2015) </h3> "
   ]
  },
  {
   "cell_type": "markdown",
   "metadata": {},
   "source": [
    "###Aufgabe 1\n",
    "(a) Berechnen Sie die Determinante von\n",
    "        $$\n",
    "        \\left(\n",
    "          \\begin{array}{ccccc}\n",
    "            0 & 1 & 1 & 1 & 1 \\\\\n",
    "            1 & 0 & 1 & 1 & 1 \\\\\n",
    "            1 & 1 & 0 & 1 & 1 \\\\\n",
    "            1 & 1 & 1 & 0 & 1 \\\\\n",
    "            1 & 1 & 1 & 1 & 0 \\\\\n",
    "          \\end{array}\n",
    "        \\right)\n",
    "        $$\n",
    "Hinweis: Benutzen Sie gemischtes Rechnen.\n",
    "\n",
    "\n",
    "(b)Berechnen Sie die Determinante von\n",
    "\n",
    "$$ \\left(\\begin{array}{ccc}\n",
    "1 & 2 & 3 \\\\\n",
    "2 & 5 & 1 \\\\\n",
    "2 & 7 & 9 \\\\\n",
    "\\end{array} \\right)$$\n",
    "       \n",
    "        \n",
    "mit Hilfe der Regel von Sarrus.\n",
    "\n",
    "###Lösung \n",
    "####a)\n",
    "\n",
    "$\\begin{vmatrix}\n",
    "0 & 1 & 1 & 1 & 1 \\\\\n",
    "1 & 0 & 1 & 1 & 1 \\\\\n",
    "1 & 1 & 0 & 1 & 1 \\\\\n",
    "1 & 1 & 1 & 0 & 1 \\\\\n",
    "1 & 1 & 1 & 1 & 0 \\\\\n",
    "\\end{vmatrix} = 4$  \n",
    "\n",
    "\n",
    "####b)\n",
    "$ \\begin{array} {\\vert cc|ccc} 1 & 2 & 3 & 1 & 2 \\\\ 2 & 5 & 1 & 2 & 5 \\\\ 2 & 7 & 9 & 2 & 7 \\\\ \\end{array}$ \n",
    "\n",
    "determinante nach Sarrus $=  1\\cdot 5\\cdot 9 + 2\\cdot 1 \\cdot 2 +\n",
    " 3\\cdot 2\\cdot 7 \n",
    " -3\\cdot 5\\cdot 2 - 1\\cdot 1\\cdot 7\n",
    " -2\\cdot 2\\cdot 9 = 18$\n"
   ]
  },
  {
   "cell_type": "code",
   "execution_count": 1,
   "metadata": {
    "collapsed": false
   },
   "outputs": [
    {
     "name": "stdout",
     "output_type": "stream",
     "text": [
      "Determinate A: 4.0\n",
      "Determinate B: 18.0\n"
     ]
    }
   ],
   "source": [
    "import numpy as np\n",
    "import sympy\n",
    "\n",
    "#a\n",
    "A = np.matrix([[0,1,1,1,1],[1,0,1,1,1],[1,1,0,1,1],[1,1,1,0,1],[1,1,1,1,0]])\n",
    "print(\"Determinate A:\", np.linalg.det(A))\n",
    "\n",
    "a = np.array([[0,1,1,1,1],[1,0,1,1,1],[1,1,0,1,1],[1,1,1,0,1],[1,1,1,1,0]])\n",
    "sympy.Matrix(a).rref()\n",
    "\n",
    "#b\n",
    "B = np.matrix([[1,2,3],[2,5,1],[2,7,9]])\n",
    "print(\"Determinate B:\", np.linalg.det(B))\n"
   ]
  },
  {
   "cell_type": "markdown",
   "metadata": {},
   "source": [
    "###Aufgabe 2\n",
    "Benutzen Sie Satz 1.11 aus dem Skript der Vorlesung um folgende Behauptung zu zeigen.\n",
    "\n",
    "Für eine invertierbare Matrix $A$ gilt\n",
    "$$\n",
    "\\det(A^{-1})=\\frac{1}{\\det(A)}.\n",
    "$$\n",
    "\n",
    "\n",
    "###Lösung \n",
    "\n",
    "**Produktsatz für Determinanten.**\n",
    "Für $n\\times n$-Matrizen $A$ und $B$ gilt\n",
    "\n",
    "$$\n",
    "\\det(A \\cdot B) = \\det(A) \\cdot \\det(B). \n",
    "$$\n",
    "\n",
    "Dann;\n",
    "\n",
    "$\\det(A^{-1}) \\cdot{\\det(A)} = 1  \\Longleftarrow$ (vom Satz) $ = \\det(A^{-1} \\cdot A )=1 \\Longleftarrow = det(I) = 1$\n"
   ]
  },
  {
   "cell_type": "markdown",
   "metadata": {},
   "source": [
    "###Aufgabe 3\n",
    "\n",
    "Benutzen Sie Satz 1.7 aus dem Skript der Vorlesung um folgende Behauptung zu zeigen.\n",
    "\n",
    "Seien $a_1, a_2$ und $a_3$ die Zeilen einer $(3 \\times 3)$-Matrix $A$. Es gelte $a_3=2a_1+a_2$. Zeigen Sie, dass dann $\\det(A)=0$ gelten muss."
   ]
  },
  {
   "cell_type": "markdown",
   "metadata": {},
   "source": [
    "###Lösung\n",
    "\n",
    "Zur Berechnung der Determinante der Matrix\n",
    " $A=\n",
    "\\begin{pmatrix}\n",
    "a_{11} & a_{12} & a_{13}\\\\\n",
    "a_{21} & a_{22} & a_{23}\\\\\n",
    "a_{31} & a_{32} & a_{33}\n",
    "\\end{pmatrix} \\qquad$ 3. Zeile besteht aus 2 mal Zeile 1 plus einmal Zeile 2, somit ist die linear abhängig und\n",
    "nach dem Gauss Algorithmus wird dort nur 0 stehen.\n",
    "\n",
    "$rref (A)$\n",
    "\n",
    "$A=\n",
    "\\begin{pmatrix}\n",
    "1 & a_{12}' & a_{13}'\\\\\n",
    "0 & 1 & a_{23}'\\\\\n",
    "0& 0 & 0\n",
    "\\end{pmatrix} \\qquad \\Longrightarrow det(A) = 0$\n",
    "\n"
   ]
  }
 ],
 "metadata": {
  "kernelspec": {
   "display_name": "Python 3",
   "language": "python",
   "name": "python3"
  },
  "language_info": {
   "codemirror_mode": {
    "name": "ipython",
    "version": 3
   },
   "file_extension": ".py",
   "mimetype": "text/x-python",
   "name": "python",
   "nbconvert_exporter": "python",
   "pygments_lexer": "ipython3",
   "version": "3.4.3"
  },
  "name": "Serie3.ipynb"
 },
 "nbformat": 4,
 "nbformat_minor": 0
}
