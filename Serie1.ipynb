{
 "cells": [
  {
   "cell_type": "markdown",
   "metadata": {
    "collapsed": false
   },
   "source": [
    "<h3 align=\"left\"> Institut für Datenanalyse und Prozessdesign $\\qquad \\qquad \\qquad \\qquad \\qquad \\qquad$  Stephan Bütikofer <br>\n",
    "ZHAW <br> Lineare Algebra II  </h3> \n",
    "\n",
    "\n",
    "\n",
    "<h3 align=\"center\">$\\Large Serie \\quad 1$ <br>\n",
    " (Ausgabe: 24.02.2015 / Abgabe: 09.03.2015) </h3> \n",
    " \n",
    "\n",
    "###Aufgabe 1\n",
    "Zeigen Sie, dass die Menge\n",
    "\n",
    "$$ B = \\{ p \\in P_2 \\; | \\; p(1) = p(-1)\\} $$\n",
    "\n",
    "ein Unterraum im Vektorraum $P_2$ der quadratischen Funktion ist. Zeigen Sie,\n",
    "\n",
    "dass $B$\n",
    "der Kern einer passenden linearen Abbildung $f$ von $P_2$ nach $\\mathbb{R}$ ist.\n",
    "\n",
    "Bestimmen Sie die\n",
    "Dimension des Kerns $Ker(f)$ und des Bilds $Im(f)$ von $f$.\n",
    "\n",
    "###Lösung\n",
    "\n",
    "####Beweis\n",
    "\n",
    "$f(p) = p(1) - p(-1) = 0  ; \\quad P_2 \\rightarrow  \\mathbb{R} $\n",
    "\n",
    "Unterraum Bedingungen: Addition und skalar Multiplikation\n",
    "\n",
    "\n",
    "\n",
    "$f(\\lambda p + \\mu q) \\quad \\quad = (\\lambda p + \\mu q ) \\,(1) - (\\lambda p + \\mu q ) \\,(-1)$ \n",
    "\n",
    "$\\qquad  \\qquad \\qquad   = \\lambda p \\,(1) + \\mu q \\,(1) - \\lambda p \\,(-1) - \\mu q \\,(-1)$\n",
    "\n",
    "$\\qquad  \\qquad \\qquad= \\lambda (p \\,(1) - p \\,(-1)) + \\mu (q \\,(1) -  \\mu q \\,(-1))$\n",
    "\n",
    "$\\qquad  \\qquad \\qquad=  \\lambda f(p) +\\mu f(q) $\n",
    "\n",
    "####Dimension\n",
    "\n",
    "$dim (P_2) = Lin \\{ 1,x,x^2 \\} = 3$\n",
    "\n",
    "Dimensionssatz: \n",
    "$$ dim(P_2) = dim(Ker(f)) + dim(Im(f))$$\n",
    "<br>\n",
    "<br>\n",
    "\n",
    "Drei Fälle:\n",
    "\n",
    "$f(x^2) \\rightarrow  1 - 1 = 0 \\Longrightarrow dim(Im(f)) = 0$\n",
    "     \n",
    "$f(x^2 + x ) \\rightarrow  1 - 1 + 2,\\, 2 \\neq 0 \\Longrightarrow dim(Im(f)) = 1 $\n",
    "     \n",
    "$f(x^2 + x + a ) \\rightarrow  1 - 1 + 2 + a - a,\\, 2 \\neq 0 \\Longrightarrow dim(Im(f)) = 1 $\n",
    "\n",
    "\n",
    "\n",
    "$$ dim(Ker(f)) = dim(P_2) - dim(Im(f)) =  2$$\n"
   ]
  },
  {
   "cell_type": "code",
   "execution_count": 2,
   "metadata": {
    "collapsed": false
   },
   "outputs": [
    {
     "name": "stdout",
     "output_type": "stream",
     "text": [
      "A in Matrix Form: [[2 0 0]]\n",
      "Rank von A ist: dim(Im(f)) 1\n",
      "Dimension P2 ist: dim(P2) 3\n",
      "Ker(f) = 2\n"
     ]
    }
   ],
   "source": [
    "import numpy as np\n",
    "A = np.matrix([[2,0,0]])\n",
    "\n",
    "print(\"A in Matrix Form:\",A) # unser U Matrix\n",
    "print(\"Rank von A ist: dim(Im(f))\",np.linalg.matrix_rank(A)) # rank unserer Matrix \n",
    "print(\"Dimension P2 ist: dim(P2)\",A.shape[1])\n",
    "print(\"Ker(f) =\",A.shape[1]-np.linalg.matrix_rank(A)) # Dimension des Lösungsraumes\n"
   ]
  },
  {
   "cell_type": "markdown",
   "metadata": {},
   "source": [
    "\n",
    "\n",
    "###Aufgabe 2\n",
    "Sei $f$ die lineare Abbildung gegeben durch\n",
    "\n",
    "$$ f \\left( \\begin{array}{c} 1 \\\\ 0 \\\\ 0 \\end{array} \\right) = \\left( \\begin{array}{c} 1 \\\\ 1 \\end{array} \\right), \\quad f \\left( \\begin{array}{c} 0 \\\\ 1 \\\\ 0 \\end{array} \\right) = \\left( \\begin{array}{c} 3 \\\\ 1 \\end{array} \\right), \\quad f \\left( \\begin{array}{c} 0 \\\\ 0 \\\\ 1 \\end{array} \\right) = \\left( \\begin{array}{c} 1 \\\\ 4 \\end{array} \\right)$$\n",
    "\n",
    "Bestimmen Sie die Matrix $A$, die $f$ bezüglich der kanonischen Basis im $\\mathbb{R}^3$ bzw. $\\mathbb{R}^2$ darstellt.\n",
    "Wie sieht die Matrix $A$ aus, wenn man im Bildraum $\\mathbb{R}^2$ die Basis $\\{(1,1)^T , (3,1)^T \\}$ gewählt?\n",
    "\n",
    "\n",
    "\n",
    "\n",
    "###Lösung\n",
    "\n",
    "$ \\underbrace{\\mathbb{R}^3}_\\text{kanonische Basen} \\qquad  \\xrightarrow{A}  \\qquad   \\underbrace{\\mathbb{R}^2}_\\text{kanonische Basen} $\n",
    "\n",
    "$$f(x) = A x$$\n",
    "\n",
    "### a)\n",
    "\n",
    "$\\left( \\begin{array}{c} 1 \\\\ 1 \\end{array} \\right) = a_{11} \\left( \\begin{array}{c} 1 \\\\ 0 \\end{array} \\right) + a_{21} \\left( \\begin{array}{c} 0 \\\\ 1 \\end{array} \\right) $ \n",
    "\n",
    "$\\left( \\begin{array}{c} 3 \\\\ 1 \\end{array} \\right) = a_{12} \\left( \\begin{array}{c} 1 \\\\ 0 \\end{array} \\right) + a_{22} \\left( \\begin{array}{c} 0 \\\\ 1 \\end{array} \\right)$ \n",
    "\n",
    "$\\left( \\begin{array}{c} 1 \\\\ 4 \\end{array} \\right) = a_{13} \\left( \\begin{array}{c} 1 \\\\ 0 \\end{array} \\right) + a_{3} \\left( \\begin{array}{c} 0 \\\\ 1 \\end{array} \\right) $ \n",
    "\n",
    "somit: \n",
    "$$ A =\\begin{pmatrix}\n",
    "1 & 3 & 1 \\\\\n",
    "1 & 1 & 4 \\\\\n",
    "\\end{pmatrix}\n",
    "$$\n",
    "\n",
    "### b)\n",
    "\n",
    "$\\left( \\begin{array}{c} 1 \\\\ 1 \\end{array} \\right) = a_{11}' \\left( \\begin{array}{c} 1 \\\\ 1 \\end{array} \\right) + a_{21}' \\left( \\begin{array}{c} 3 \\\\ 1 \\end{array} \\right) $ \n",
    "\n",
    "$\\left( \\begin{array}{c} 3 \\\\ 1 \\end{array} \\right) = a_{12}' \\left( \\begin{array}{c} 1 \\\\ 1 \\end{array} \\right) + a_{22}' \\left( \\begin{array}{c} 3 \\\\ 1 \\end{array} \\right)$\n",
    "\n",
    "$\\left( \\begin{array}{c} 1 \\\\ 4 \\end{array} \\right) = a_{13}' \\left( \\begin{array}{c} 1 \\\\ 1 \\end{array} \\right) + a_{23}' \\left( \\begin{array}{c} 3 \\\\ 1 \\end{array} \\right) $ \n",
    "\n",
    "somit: \n",
    "\n",
    "$$A' = \\begin{pmatrix}\n",
    "1 & 0 & 5.5 \\\\\n",
    "0 & 1 & -1.5 \\\\\n",
    "\\end{pmatrix}\n",
    "$$\n"
   ]
  },
  {
   "cell_type": "code",
   "execution_count": 3,
   "metadata": {
    "collapsed": false
   },
   "outputs": [
    {
     "data": {
      "text/plain": [
       "matrix([[ 1. ,  0. ,  5.5],\n",
       "        [-0. ,  1. , -1.5]])"
      ]
     },
     "execution_count": 3,
     "metadata": {},
     "output_type": "execute_result"
    }
   ],
   "source": [
    "a1 = np.matrix([[1,3],[1,1]])\n",
    "b1 = np.array([1,1])\n",
    "[a11,a21] = np.linalg.solve(a1, b1)\n",
    "a2 = np.matrix([[1,3],[1,1]])\n",
    "b2 = np.array([3,1])\n",
    "[a12,a22] = np.linalg.solve(a2, b2)\n",
    "a3 = np.matrix([[1,3],[1,1]])\n",
    "b3 = np.array([1,4])\n",
    "[a13,a23] = np.linalg.solve(a3, b3)\n",
    "A = np.matrix([[a11,a12,a13],[a21,a22,a23]])\n",
    "A\n"
   ]
  },
  {
   "cell_type": "markdown",
   "metadata": {},
   "source": [
    "###Aufgabe 3\n",
    "\n",
    "Wir betrachten die (lineare) Ableitungsfunktion $f$ vom Vektorraum der\n",
    "quadratischen Funktion $P_2$ in den Vektorraum der linearen Funktionen $P_1$, d.h.\n",
    "$$f(p) = p', \\quad f:p(x) = ax^2+bx+c \\mapsto p'(x) = 2ax +b$$\n",
    "\n",
    "(a) Beschreiben Sie $f$ durch eine Matrix $A$ bezüglich den Basen $\\{1, x , x^2 \\}$ in $P_2$ bzw.\n",
    "$\\{1,x \\}$ in $P_1$.\n",
    "\n",
    "(b) Berechnen Sie mit Hilfe der Matrix $A$ die Ableitung von $x^2 + x$.\n",
    "\n",
    "###Lösung\n",
    "\n",
    "####a)\n",
    "\n",
    "$$ f:P_2 \\rightarrow P_1, \\quad  p(x) \\mapsto f(p) = p' $$\n",
    "$$f(p_j(x)=\\sum_{i=0}^1 a_{ij}x^i = a_{0j}  + a_{1j}x = jx^{j-1}$$\n",
    "\n",
    "Für $j = 0:$\n",
    "\n",
    "$a_{00} + a_{10}x = 0 \\Longrightarrow  a_{00} = a_{10} = 0$\n",
    "\n",
    "Für $j = 1:$\n",
    "\n",
    "$a_{01} + a_{11}x = 1 \\Longrightarrow  a_{01} = 1, \\quad a_{11} = 0$   \n",
    "\n",
    "Für $j = 2:$ \n",
    "\n",
    "$a_{02} + a_{12}x = 2x \\Longrightarrow  a_{02} = 0, \\quad a_{12} = 2$\n",
    "\n",
    "somit:\n",
    "$$   \n",
    "A =\\begin{pmatrix}\n",
    "0 & 1 & 0 \\\\\n",
    "0 & 0 & 2 \\\\\n",
    "\\end{pmatrix}\n",
    "$$ \n",
    "\n",
    "####b)\n",
    "\n",
    " $x^2 + x$ wird in $P_2$ als  vektor geschrieben:  $ a = \\left( \\begin{array}{c} 0 \\\\ 1 \\\\ 1 \\end{array} \\right) $\n",
    " \n",
    " Dann die Ableitung ist: A*a\n",
    " \n",
    "$$   \n",
    "\\begin{pmatrix}\n",
    "0 & 1 & 0 \\\\\n",
    "0 & 0 & 2 \\\\\n",
    "\\end{pmatrix}\n",
    "  \\left( \\begin{array}{c} 0 \\\\ 1 \\\\ 1 \\end{array} \\right) = \\left( \\begin{array}{c} 1 \\\\ 2 \\end{array} \\right) = 2x + 1 $$\n"
   ]
  },
  {
   "cell_type": "code",
   "execution_count": 4,
   "metadata": {
    "collapsed": false
   },
   "outputs": [
    {
     "data": {
      "text/plain": [
       "matrix([[1, 2]])"
      ]
     },
     "execution_count": 4,
     "metadata": {},
     "output_type": "execute_result"
    }
   ],
   "source": [
    "A = np.matrix([[0,1,0],[0,0,2]])\n",
    "a =  np.array((0,1,1)).T\n",
    "np.dot(A, a)\n",
    "A.dot(a)\n"
   ]
  },
  {
   "cell_type": "markdown",
   "metadata": {},
   "source": [
    "\n",
    "###Aufgabe 4\n",
    "\n",
    "Durch die Vorschrift $f(x) = Ax$ mit \n",
    "$$ A = \n",
    "\\begin{pmatrix}\n",
    "1 & 1 & 0 \\\\\n",
    "2 & 1 & 1 \\\\\n",
    "\\end{pmatrix}\n",
    "$$\n",
    "\n",
    "ist eine lineare Abbildung von $\\mathbb{R}^3$ nach $\\mathbb{R}^2$ definiert(A stellt $f$ bezüglich der kanonischen\n",
    "Basis dar). Bestimmen Sie Basen von $\\mathbb{R}^3$ bzw. $\\mathbb{R}^2$ , so dass man $f$ durch die Matrix\n",
    "\n",
    "$$ B = \n",
    "\\begin{pmatrix}\n",
    "1 & 0 & 0 \\\\\n",
    "0 & 1 & 0 \\\\\n",
    "\\end{pmatrix}\n",
    "$$\n",
    "darstellen kann bzgl. diesen Basen.\n",
    "\n",
    "###Lösung\n",
    "\n",
    "$ \\underbrace{\\mathbb{R}^3}_\\text{kanonische Basen} \\qquad  \\xrightarrow{A}  \\qquad   \\underbrace{\\mathbb{R}^2}_\\text{kanonische Basen} $\n",
    "\n",
    "$\\quad \\underbrace{\\mathbb{R}^3}_\\text{Basen} \\qquad \\qquad  \\xrightarrow{B}  \\qquad \\qquad \\underbrace{\\mathbb{R}^2}_\\text{Basen} $\n",
    "\n",
    "Weil, es kanonische Basen sind: $$f(x) = A x$$\n",
    "\n",
    "\n",
    "$$ f \\left( \\begin{array}{c} 1 \\\\ 0 \\\\ 0 \\end{array} \\right) = \\left( \\begin{array}{c} 1 \\\\ 2 \\end{array} \\right), \\quad f \\left( \\begin{array}{c} 0 \\\\ 1 \\\\ 0 \\end{array} \\right) = \\left( \\begin{array}{c} 1 \\\\ 1 \\end{array} \\right), \\quad f \\left( \\begin{array}{c} 0 \\\\ 0 \\\\ 1 \\end{array} \\right) = \\left( \\begin{array}{c} 0 \\\\ 1 \\end{array} \\right)$$\n",
    "\n",
    "\n",
    "\n",
    "\n",
    "$f(e_1) =  \\left( \\begin{array}{c} 1 \\\\ 2 \\end{array} \\right) = b_{11} \\left( \\begin{array}{c} v_1 \\end{array} \\right) + b_{21} \\left( \\begin{array}{c} v_2 \\end{array} \\right)  \\Longrightarrow  v_1 = \\left( \\begin{array}{c} 1 \\\\ 2 \\end{array} \\right)$\n",
    " \n",
    "$f(e_2) = \\left( \\begin{array}{c} 1 \\\\ 1 \\end{array} \\right) = b_{12} \\left( \\begin{array}{c} v_1 \\end{array} \\right) + b_{22} \\left( \\begin{array}{c} v_2 \\end{array} \\right)  \\Longrightarrow  v_2 = \\left( \\begin{array}{c} 1 \\\\ 1 \\end{array} \\right)$\n",
    "\n",
    "$f(e_3) = \\left( \\begin{array}{c} 0 \\\\ 1 \\end{array} \\right) \\neq b_{13} \\left( \\begin{array}{c} v_1 \\end{array} \\right) + b_{23} \\left( \\begin{array}{c} v_2 \\end{array} \\right) = \\left( \\begin{array}{c} 0 \\\\ 0 \\end{array} \\right)  \\Longrightarrow  \\mathbb{R}^3 = \\{e_1,e_2,v \\} $\n",
    "\n",
    "\n",
    "Wir müssen die neue Basis finden: Idee $\\Longrightarrow Av=0$ lösen und v als neue Basis für $\\mathbb{R}^3$ addieren .\n",
    "\n",
    "Die neue Basen sind:\n",
    "\n",
    "$\\mathbb{R}^3 = \\left\\{ \\left( \\begin{array}{c} 1 \\\\ 0 \\\\ 0 \\end{array} \\right),\\left( \\begin{array}{c} 0 \\\\ 1 \\\\ 0 \\end{array} \\right),\\left( \\begin{array}{r} -1 \\\\ 1 \\\\ 1 \\end{array} \\right) \\right\\} $\n",
    "\n",
    "$\\mathbb{R}^2 = \\left\\{ \\left( \\begin{array}{c} 1 \\\\ 2 \\end{array} \\right),\\left( \\begin{array}{c} 1 \\\\ 1 \\end{array} \\right) \\right\\} $\n",
    "\n"
   ]
  },
  {
   "cell_type": "code",
   "execution_count": 5,
   "metadata": {
    "collapsed": false
   },
   "outputs": [
    {
     "name": "stdout",
     "output_type": "stream",
     "text": [
      "[[-1.]\n",
      " [ 1.]\n",
      " [ 1.]]\n"
     ]
    }
   ],
   "source": [
    "\n",
    "from numpy.linalg import svd\n",
    "\n",
    "def nullspace(A, atol=1e-13, rtol=0):\n",
    "    A = np.atleast_2d(A)\n",
    "    u, s, vh = svd(A)\n",
    "    tol = max(atol, rtol * s[0])\n",
    "    nnz = (s >= tol).sum()\n",
    "    ns = vh[nnz:].conj().T\n",
    "    return ns\n",
    "A = np.matrix([[1,1,0],[2,1,1]])\n",
    "v = np.around(nullspace(A))\n",
    "print(v)"
   ]
  },
  {
   "cell_type": "code",
   "execution_count": null,
   "metadata": {
    "collapsed": true
   },
   "outputs": [],
   "source": []
  }
 ],
 "metadata": {
  "kernelspec": {
   "display_name": "Python 3",
   "language": "python",
   "name": "python3"
  },
  "language_info": {
   "codemirror_mode": {
    "name": "ipython",
    "version": 3
   },
   "file_extension": ".py",
   "mimetype": "text/x-python",
   "name": "python",
   "nbconvert_exporter": "python",
   "pygments_lexer": "ipython3",
   "version": "3.4.3"
  },
  "name": "Serie1.ipynb"
 },
 "nbformat": 4,
 "nbformat_minor": 0
}
